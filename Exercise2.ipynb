{
  "cells": [
    {
      "cell_type": "markdown",
      "metadata": {
        "id": "view-in-github",
        "colab_type": "text"
      },
      "source": [
        "<a href=\"https://colab.research.google.com/github/jassynavarro/CCADMACL_EXERCISES/blob/main/Exercise2.ipynb\" target=\"_parent\"><img src=\"https://colab.research.google.com/assets/colab-badge.svg\" alt=\"Open In Colab\"/></a>"
      ]
    },
    {
      "cell_type": "markdown",
      "source": [
        "## Exercise 2: Use Gradient Boost for Regression\n",
        "\n",
        "Instructions:\n",
        "\n",
        "- Use the Dataset File to train your model\n",
        "- Use the Test File to generate your results\n",
        "- Use the Sample Submission file to generate the same format\n",
        "Submit your results to:\n",
        "https://www.kaggle.com/competitions/playground-series-s4e12/overview\n",
        "\n"
      ],
      "metadata": {
        "id": "99_2rPCJrNfK"
      }
    },
    {
      "cell_type": "code",
      "execution_count": 209,
      "metadata": {
        "id": "R_se3V8gftVL"
      },
      "outputs": [],
      "source": [
        "import pandas as pd\n",
        "import seaborn as sns\n",
        "import numpy as np\n",
        "\n",
        "\n",
        "from sklearn.preprocessing import OneHotEncoder, LabelEncoder\n",
        "from sklearn.impute import SimpleImputer\n",
        "from xgboost import XGBRegressor\n",
        "from sklearn import datasets, ensemble\n",
        "from sklearn.metrics import root_mean_squared_log_error\n",
        "from matplotlib import pyplot as plt\n",
        "from sklearn.ensemble import GradientBoostingRegressor\n",
        "from sklearn.model_selection import train_test_split"
      ]
    },
    {
      "cell_type": "markdown",
      "metadata": {
        "id": "eCNNEXIhftVN"
      },
      "source": [
        "## Dataset\n",
        "Train, test and sample submission file can be found in this link\n",
        "https://www.kaggle.com/competitions/playground-series-s4e12/data"
      ]
    },
    {
      "cell_type": "markdown",
      "source": [
        "## 1. Load the Data"
      ],
      "metadata": {
        "id": "rjhN8ODcVYxH"
      }
    },
    {
      "cell_type": "code",
      "source": [
        "# put your answer here\n",
        "df = pd.read_csv(\"train.csv\")\n",
        "dt = pd.read_csv(\"test.csv\")"
      ],
      "metadata": {
        "id": "tEcU-yJmVZwR"
      },
      "execution_count": 210,
      "outputs": []
    },
    {
      "cell_type": "code",
      "source": [
        "df.info()"
      ],
      "metadata": {
        "colab": {
          "base_uri": "https://localhost:8080/"
        },
        "id": "wko7TbY23Hgh",
        "outputId": "5cf60719-5da4-4343-b502-24b6b452733f"
      },
      "execution_count": 211,
      "outputs": [
        {
          "output_type": "stream",
          "name": "stdout",
          "text": [
            "<class 'pandas.core.frame.DataFrame'>\n",
            "RangeIndex: 1200000 entries, 0 to 1199999\n",
            "Data columns (total 21 columns):\n",
            " #   Column                Non-Null Count    Dtype  \n",
            "---  ------                --------------    -----  \n",
            " 0   id                    1200000 non-null  int64  \n",
            " 1   Age                   1181295 non-null  float64\n",
            " 2   Gender                1200000 non-null  object \n",
            " 3   Annual Income         1155051 non-null  float64\n",
            " 4   Marital Status        1181471 non-null  object \n",
            " 5   Number of Dependents  1090328 non-null  float64\n",
            " 6   Education Level       1200000 non-null  object \n",
            " 7   Occupation            841925 non-null   object \n",
            " 8   Health Score          1125924 non-null  float64\n",
            " 9   Location              1200000 non-null  object \n",
            " 10  Policy Type           1200000 non-null  object \n",
            " 11  Previous Claims       835971 non-null   float64\n",
            " 12  Vehicle Age           1199994 non-null  float64\n",
            " 13  Credit Score          1062118 non-null  float64\n",
            " 14  Insurance Duration    1199999 non-null  float64\n",
            " 15  Policy Start Date     1200000 non-null  object \n",
            " 16  Customer Feedback     1122176 non-null  object \n",
            " 17  Smoking Status        1200000 non-null  object \n",
            " 18  Exercise Frequency    1200000 non-null  object \n",
            " 19  Property Type         1200000 non-null  object \n",
            " 20  Premium Amount        1200000 non-null  float64\n",
            "dtypes: float64(9), int64(1), object(11)\n",
            "memory usage: 192.3+ MB\n"
          ]
        }
      ]
    },
    {
      "cell_type": "code",
      "source": [
        "df.isnull().sum()"
      ],
      "metadata": {
        "colab": {
          "base_uri": "https://localhost:8080/",
          "height": 742
        },
        "id": "5WZ-sNXutrf4",
        "outputId": "bad1f080-a57c-4057-edd4-0f3d2872e995"
      },
      "execution_count": 212,
      "outputs": [
        {
          "output_type": "execute_result",
          "data": {
            "text/plain": [
              "id                           0\n",
              "Age                      18705\n",
              "Gender                       0\n",
              "Annual Income            44949\n",
              "Marital Status           18529\n",
              "Number of Dependents    109672\n",
              "Education Level              0\n",
              "Occupation              358075\n",
              "Health Score             74076\n",
              "Location                     0\n",
              "Policy Type                  0\n",
              "Previous Claims         364029\n",
              "Vehicle Age                  6\n",
              "Credit Score            137882\n",
              "Insurance Duration           1\n",
              "Policy Start Date            0\n",
              "Customer Feedback        77824\n",
              "Smoking Status               0\n",
              "Exercise Frequency           0\n",
              "Property Type                0\n",
              "Premium Amount               0\n",
              "dtype: int64"
            ],
            "text/html": [
              "<div>\n",
              "<style scoped>\n",
              "    .dataframe tbody tr th:only-of-type {\n",
              "        vertical-align: middle;\n",
              "    }\n",
              "\n",
              "    .dataframe tbody tr th {\n",
              "        vertical-align: top;\n",
              "    }\n",
              "\n",
              "    .dataframe thead th {\n",
              "        text-align: right;\n",
              "    }\n",
              "</style>\n",
              "<table border=\"1\" class=\"dataframe\">\n",
              "  <thead>\n",
              "    <tr style=\"text-align: right;\">\n",
              "      <th></th>\n",
              "      <th>0</th>\n",
              "    </tr>\n",
              "  </thead>\n",
              "  <tbody>\n",
              "    <tr>\n",
              "      <th>id</th>\n",
              "      <td>0</td>\n",
              "    </tr>\n",
              "    <tr>\n",
              "      <th>Age</th>\n",
              "      <td>18705</td>\n",
              "    </tr>\n",
              "    <tr>\n",
              "      <th>Gender</th>\n",
              "      <td>0</td>\n",
              "    </tr>\n",
              "    <tr>\n",
              "      <th>Annual Income</th>\n",
              "      <td>44949</td>\n",
              "    </tr>\n",
              "    <tr>\n",
              "      <th>Marital Status</th>\n",
              "      <td>18529</td>\n",
              "    </tr>\n",
              "    <tr>\n",
              "      <th>Number of Dependents</th>\n",
              "      <td>109672</td>\n",
              "    </tr>\n",
              "    <tr>\n",
              "      <th>Education Level</th>\n",
              "      <td>0</td>\n",
              "    </tr>\n",
              "    <tr>\n",
              "      <th>Occupation</th>\n",
              "      <td>358075</td>\n",
              "    </tr>\n",
              "    <tr>\n",
              "      <th>Health Score</th>\n",
              "      <td>74076</td>\n",
              "    </tr>\n",
              "    <tr>\n",
              "      <th>Location</th>\n",
              "      <td>0</td>\n",
              "    </tr>\n",
              "    <tr>\n",
              "      <th>Policy Type</th>\n",
              "      <td>0</td>\n",
              "    </tr>\n",
              "    <tr>\n",
              "      <th>Previous Claims</th>\n",
              "      <td>364029</td>\n",
              "    </tr>\n",
              "    <tr>\n",
              "      <th>Vehicle Age</th>\n",
              "      <td>6</td>\n",
              "    </tr>\n",
              "    <tr>\n",
              "      <th>Credit Score</th>\n",
              "      <td>137882</td>\n",
              "    </tr>\n",
              "    <tr>\n",
              "      <th>Insurance Duration</th>\n",
              "      <td>1</td>\n",
              "    </tr>\n",
              "    <tr>\n",
              "      <th>Policy Start Date</th>\n",
              "      <td>0</td>\n",
              "    </tr>\n",
              "    <tr>\n",
              "      <th>Customer Feedback</th>\n",
              "      <td>77824</td>\n",
              "    </tr>\n",
              "    <tr>\n",
              "      <th>Smoking Status</th>\n",
              "      <td>0</td>\n",
              "    </tr>\n",
              "    <tr>\n",
              "      <th>Exercise Frequency</th>\n",
              "      <td>0</td>\n",
              "    </tr>\n",
              "    <tr>\n",
              "      <th>Property Type</th>\n",
              "      <td>0</td>\n",
              "    </tr>\n",
              "    <tr>\n",
              "      <th>Premium Amount</th>\n",
              "      <td>0</td>\n",
              "    </tr>\n",
              "  </tbody>\n",
              "</table>\n",
              "</div><br><label><b>dtype:</b> int64</label>"
            ]
          },
          "metadata": {},
          "execution_count": 212
        }
      ]
    },
    {
      "cell_type": "code",
      "source": [
        "mean_imputer = SimpleImputer(strategy='mean')\n",
        "median_imputer = SimpleImputer(strategy='median')\n",
        "mode_imputer = SimpleImputer(strategy='most_frequent')\n",
        "\n",
        "df['Age'] = mean_imputer.fit_transform(df[['Age']])\n",
        "df['Annual Income'].fillna(df['Annual Income'].median(), inplace=True)\n",
        "df['Number of Dependents'] = median_imputer.fit_transform(df[['Number of Dependents']])\n",
        "df['Health Score'] = median_imputer.fit_transform(df[['Health Score']])\n",
        "df['Previous Claims'] = mode_imputer.fit_transform(df[['Previous Claims']])\n",
        "df['Vehicle Age'] = median_imputer.fit_transform(df[['Vehicle Age']])\n",
        "df['Credit Score'] = median_imputer.fit_transform(df[['Credit Score']])\n",
        "df.dropna(subset=['Premium Amount'])\n",
        "\n",
        "# Encoding categorical data\n",
        "label_encoder = LabelEncoder()\n",
        "df['Occupation'] = label_encoder.fit_transform(df['Occupation'])\n",
        "df['Marital Status'] = label_encoder.fit_transform(df['Marital Status'])\n",
        "df['Property Type'] = label_encoder.fit_transform(df['Property Type'])"
      ],
      "metadata": {
        "id": "HyFHRDc_tJyR",
        "colab": {
          "base_uri": "https://localhost:8080/"
        },
        "outputId": "15a1f9ec-83f7-4fd3-d642-dc962e5b4f87"
      },
      "execution_count": 213,
      "outputs": [
        {
          "output_type": "stream",
          "name": "stderr",
          "text": [
            "<ipython-input-213-a016643c4d97>:6: FutureWarning: A value is trying to be set on a copy of a DataFrame or Series through chained assignment using an inplace method.\n",
            "The behavior will change in pandas 3.0. This inplace method will never work because the intermediate object on which we are setting values always behaves as a copy.\n",
            "\n",
            "For example, when doing 'df[col].method(value, inplace=True)', try using 'df.method({col: value}, inplace=True)' or df[col] = df[col].method(value) instead, to perform the operation inplace on the original object.\n",
            "\n",
            "\n",
            "  df['Annual Income'].fillna(df['Annual Income'].median(), inplace=True)\n"
          ]
        }
      ]
    },
    {
      "cell_type": "code",
      "source": [
        "df.info()"
      ],
      "metadata": {
        "colab": {
          "base_uri": "https://localhost:8080/"
        },
        "id": "FdKynLxvtPWQ",
        "outputId": "4fcd83a8-f286-4c32-8e37-c88e80c7d369"
      },
      "execution_count": 214,
      "outputs": [
        {
          "output_type": "stream",
          "name": "stdout",
          "text": [
            "<class 'pandas.core.frame.DataFrame'>\n",
            "RangeIndex: 1200000 entries, 0 to 1199999\n",
            "Data columns (total 21 columns):\n",
            " #   Column                Non-Null Count    Dtype  \n",
            "---  ------                --------------    -----  \n",
            " 0   id                    1200000 non-null  int64  \n",
            " 1   Age                   1200000 non-null  float64\n",
            " 2   Gender                1200000 non-null  object \n",
            " 3   Annual Income         1200000 non-null  float64\n",
            " 4   Marital Status        1200000 non-null  int64  \n",
            " 5   Number of Dependents  1200000 non-null  float64\n",
            " 6   Education Level       1200000 non-null  object \n",
            " 7   Occupation            1200000 non-null  int64  \n",
            " 8   Health Score          1200000 non-null  float64\n",
            " 9   Location              1200000 non-null  object \n",
            " 10  Policy Type           1200000 non-null  object \n",
            " 11  Previous Claims       1200000 non-null  float64\n",
            " 12  Vehicle Age           1200000 non-null  float64\n",
            " 13  Credit Score          1200000 non-null  float64\n",
            " 14  Insurance Duration    1199999 non-null  float64\n",
            " 15  Policy Start Date     1200000 non-null  object \n",
            " 16  Customer Feedback     1122176 non-null  object \n",
            " 17  Smoking Status        1200000 non-null  object \n",
            " 18  Exercise Frequency    1200000 non-null  object \n",
            " 19  Property Type         1200000 non-null  int64  \n",
            " 20  Premium Amount        1200000 non-null  float64\n",
            "dtypes: float64(9), int64(4), object(8)\n",
            "memory usage: 192.3+ MB\n"
          ]
        }
      ]
    },
    {
      "cell_type": "code",
      "source": [
        "df.isnull().sum()"
      ],
      "metadata": {
        "colab": {
          "base_uri": "https://localhost:8080/",
          "height": 742
        },
        "id": "sqVjFsZ-34_5",
        "outputId": "c4686697-b1c4-4b7f-bd09-8f26eeb6b8b2"
      },
      "execution_count": 215,
      "outputs": [
        {
          "output_type": "execute_result",
          "data": {
            "text/plain": [
              "id                          0\n",
              "Age                         0\n",
              "Gender                      0\n",
              "Annual Income               0\n",
              "Marital Status              0\n",
              "Number of Dependents        0\n",
              "Education Level             0\n",
              "Occupation                  0\n",
              "Health Score                0\n",
              "Location                    0\n",
              "Policy Type                 0\n",
              "Previous Claims             0\n",
              "Vehicle Age                 0\n",
              "Credit Score                0\n",
              "Insurance Duration          1\n",
              "Policy Start Date           0\n",
              "Customer Feedback       77824\n",
              "Smoking Status              0\n",
              "Exercise Frequency          0\n",
              "Property Type               0\n",
              "Premium Amount              0\n",
              "dtype: int64"
            ],
            "text/html": [
              "<div>\n",
              "<style scoped>\n",
              "    .dataframe tbody tr th:only-of-type {\n",
              "        vertical-align: middle;\n",
              "    }\n",
              "\n",
              "    .dataframe tbody tr th {\n",
              "        vertical-align: top;\n",
              "    }\n",
              "\n",
              "    .dataframe thead th {\n",
              "        text-align: right;\n",
              "    }\n",
              "</style>\n",
              "<table border=\"1\" class=\"dataframe\">\n",
              "  <thead>\n",
              "    <tr style=\"text-align: right;\">\n",
              "      <th></th>\n",
              "      <th>0</th>\n",
              "    </tr>\n",
              "  </thead>\n",
              "  <tbody>\n",
              "    <tr>\n",
              "      <th>id</th>\n",
              "      <td>0</td>\n",
              "    </tr>\n",
              "    <tr>\n",
              "      <th>Age</th>\n",
              "      <td>0</td>\n",
              "    </tr>\n",
              "    <tr>\n",
              "      <th>Gender</th>\n",
              "      <td>0</td>\n",
              "    </tr>\n",
              "    <tr>\n",
              "      <th>Annual Income</th>\n",
              "      <td>0</td>\n",
              "    </tr>\n",
              "    <tr>\n",
              "      <th>Marital Status</th>\n",
              "      <td>0</td>\n",
              "    </tr>\n",
              "    <tr>\n",
              "      <th>Number of Dependents</th>\n",
              "      <td>0</td>\n",
              "    </tr>\n",
              "    <tr>\n",
              "      <th>Education Level</th>\n",
              "      <td>0</td>\n",
              "    </tr>\n",
              "    <tr>\n",
              "      <th>Occupation</th>\n",
              "      <td>0</td>\n",
              "    </tr>\n",
              "    <tr>\n",
              "      <th>Health Score</th>\n",
              "      <td>0</td>\n",
              "    </tr>\n",
              "    <tr>\n",
              "      <th>Location</th>\n",
              "      <td>0</td>\n",
              "    </tr>\n",
              "    <tr>\n",
              "      <th>Policy Type</th>\n",
              "      <td>0</td>\n",
              "    </tr>\n",
              "    <tr>\n",
              "      <th>Previous Claims</th>\n",
              "      <td>0</td>\n",
              "    </tr>\n",
              "    <tr>\n",
              "      <th>Vehicle Age</th>\n",
              "      <td>0</td>\n",
              "    </tr>\n",
              "    <tr>\n",
              "      <th>Credit Score</th>\n",
              "      <td>0</td>\n",
              "    </tr>\n",
              "    <tr>\n",
              "      <th>Insurance Duration</th>\n",
              "      <td>1</td>\n",
              "    </tr>\n",
              "    <tr>\n",
              "      <th>Policy Start Date</th>\n",
              "      <td>0</td>\n",
              "    </tr>\n",
              "    <tr>\n",
              "      <th>Customer Feedback</th>\n",
              "      <td>77824</td>\n",
              "    </tr>\n",
              "    <tr>\n",
              "      <th>Smoking Status</th>\n",
              "      <td>0</td>\n",
              "    </tr>\n",
              "    <tr>\n",
              "      <th>Exercise Frequency</th>\n",
              "      <td>0</td>\n",
              "    </tr>\n",
              "    <tr>\n",
              "      <th>Property Type</th>\n",
              "      <td>0</td>\n",
              "    </tr>\n",
              "    <tr>\n",
              "      <th>Premium Amount</th>\n",
              "      <td>0</td>\n",
              "    </tr>\n",
              "  </tbody>\n",
              "</table>\n",
              "</div><br><label><b>dtype:</b> int64</label>"
            ]
          },
          "metadata": {},
          "execution_count": 215
        }
      ]
    },
    {
      "cell_type": "code",
      "source": [
        "df.drop(columns=[\"Education Level\", \"Exercise Frequency\", \"Customer Feedback\", \"Policy Start Date\", \"Location\", \"Insurance Duration\"], inplace=True)"
      ],
      "metadata": {
        "id": "WvoOXwERPplM"
      },
      "execution_count": 216,
      "outputs": []
    },
    {
      "cell_type": "code",
      "source": [
        "df.info()"
      ],
      "metadata": {
        "colab": {
          "base_uri": "https://localhost:8080/"
        },
        "id": "m4qJ5TXwPQ4W",
        "outputId": "b3469335-7755-4f5c-8c3f-eb4747a1cc2c"
      },
      "execution_count": 217,
      "outputs": [
        {
          "output_type": "stream",
          "name": "stdout",
          "text": [
            "<class 'pandas.core.frame.DataFrame'>\n",
            "RangeIndex: 1200000 entries, 0 to 1199999\n",
            "Data columns (total 15 columns):\n",
            " #   Column                Non-Null Count    Dtype  \n",
            "---  ------                --------------    -----  \n",
            " 0   id                    1200000 non-null  int64  \n",
            " 1   Age                   1200000 non-null  float64\n",
            " 2   Gender                1200000 non-null  object \n",
            " 3   Annual Income         1200000 non-null  float64\n",
            " 4   Marital Status        1200000 non-null  int64  \n",
            " 5   Number of Dependents  1200000 non-null  float64\n",
            " 6   Occupation            1200000 non-null  int64  \n",
            " 7   Health Score          1200000 non-null  float64\n",
            " 8   Policy Type           1200000 non-null  object \n",
            " 9   Previous Claims       1200000 non-null  float64\n",
            " 10  Vehicle Age           1200000 non-null  float64\n",
            " 11  Credit Score          1200000 non-null  float64\n",
            " 12  Smoking Status        1200000 non-null  object \n",
            " 13  Property Type         1200000 non-null  int64  \n",
            " 14  Premium Amount        1200000 non-null  float64\n",
            "dtypes: float64(8), int64(4), object(3)\n",
            "memory usage: 137.3+ MB\n"
          ]
        }
      ]
    },
    {
      "cell_type": "markdown",
      "source": [
        "## 2. Perform Data preprocessing"
      ],
      "metadata": {
        "id": "GlMLKDF_rvUM"
      }
    },
    {
      "cell_type": "code",
      "source": [
        "# Split data into features and target\n",
        "X = df.drop([\"Premium Amount\", \"id\"], axis=True)\n",
        "y = df[\"Premium Amount\"]"
      ],
      "metadata": {
        "id": "H7OnvazqQpz7"
      },
      "execution_count": 218,
      "outputs": []
    },
    {
      "cell_type": "code",
      "source": [
        "# put your answer here\n",
        "# Define categorical and numerical features\n",
        "from sklearn.compose import ColumnTransformer\n",
        "from sklearn.preprocessing import OneHotEncoder, StandardScaler\n",
        "\n",
        "categorical_features = X.select_dtypes(\n",
        "   include=[\"object\"]\n",
        ").columns.tolist()\n",
        "\n",
        "numerical_features = X.select_dtypes(\n",
        "   include=[\"float64\", \"int64\"]\n",
        ").columns.tolist()\n",
        "\n",
        "\n",
        "preprocessor = ColumnTransformer(\n",
        "   transformers=[\n",
        "       (\"cat\", OneHotEncoder(), categorical_features),\n",
        "       (\"num\", StandardScaler(), numerical_features),\n",
        "   ]\n",
        ")"
      ],
      "metadata": {
        "id": "0MJX8VBysFxR"
      },
      "execution_count": 219,
      "outputs": []
    },
    {
      "cell_type": "code",
      "source": [
        "xgb_model = XGBRegressor(\n",
        "    n_estimators=500,\n",
        "    max_depth=4,\n",
        "    learning_rate=0.01,\n",
        "    random_state=42,\n",
        ")"
      ],
      "metadata": {
        "id": "lrHrGRaLM5EF"
      },
      "execution_count": 220,
      "outputs": []
    },
    {
      "cell_type": "markdown",
      "source": [
        "## 3. Create a Pipeline"
      ],
      "metadata": {
        "id": "u-z7RFsxWLHM"
      }
    },
    {
      "cell_type": "code",
      "source": [
        "# put your answer here\n",
        "from sklearn.pipeline import Pipeline\n",
        "\n",
        "pipeline = Pipeline(\n",
        "    steps=[\n",
        "        (\"preprocessor\", preprocessor),\n",
        "        (\"regressor\", xgb_model),\n",
        "    ]\n",
        ")"
      ],
      "metadata": {
        "id": "ZLa7EGkw_zwK"
      },
      "execution_count": 221,
      "outputs": []
    },
    {
      "cell_type": "markdown",
      "source": [
        "## 4. Train the Model"
      ],
      "metadata": {
        "id": "8n-ScOLqze60"
      }
    },
    {
      "cell_type": "code",
      "source": [
        "# put your answer here\n",
        "# Split data into train and test sets\n",
        "X_train, X_test, y_train, y_test = train_test_split(\n",
        "   X, y, test_size=0.2, random_state=42\n",
        ")"
      ],
      "metadata": {
        "id": "fqLNJkoHzfL4"
      },
      "execution_count": 222,
      "outputs": []
    },
    {
      "cell_type": "markdown",
      "source": [
        "## 5. Evaluate the Model"
      ],
      "metadata": {
        "id": "IkAsAi29WiDq"
      }
    },
    {
      "cell_type": "code",
      "source": [
        "df.isnull().sum()"
      ],
      "metadata": {
        "colab": {
          "base_uri": "https://localhost:8080/",
          "height": 554
        },
        "id": "dWAgkz0hShx5",
        "outputId": "97a699e8-a5dc-43c6-d371-7e5f8831148f"
      },
      "execution_count": 223,
      "outputs": [
        {
          "output_type": "execute_result",
          "data": {
            "text/plain": [
              "id                      0\n",
              "Age                     0\n",
              "Gender                  0\n",
              "Annual Income           0\n",
              "Marital Status          0\n",
              "Number of Dependents    0\n",
              "Occupation              0\n",
              "Health Score            0\n",
              "Policy Type             0\n",
              "Previous Claims         0\n",
              "Vehicle Age             0\n",
              "Credit Score            0\n",
              "Smoking Status          0\n",
              "Property Type           0\n",
              "Premium Amount          0\n",
              "dtype: int64"
            ],
            "text/html": [
              "<div>\n",
              "<style scoped>\n",
              "    .dataframe tbody tr th:only-of-type {\n",
              "        vertical-align: middle;\n",
              "    }\n",
              "\n",
              "    .dataframe tbody tr th {\n",
              "        vertical-align: top;\n",
              "    }\n",
              "\n",
              "    .dataframe thead th {\n",
              "        text-align: right;\n",
              "    }\n",
              "</style>\n",
              "<table border=\"1\" class=\"dataframe\">\n",
              "  <thead>\n",
              "    <tr style=\"text-align: right;\">\n",
              "      <th></th>\n",
              "      <th>0</th>\n",
              "    </tr>\n",
              "  </thead>\n",
              "  <tbody>\n",
              "    <tr>\n",
              "      <th>id</th>\n",
              "      <td>0</td>\n",
              "    </tr>\n",
              "    <tr>\n",
              "      <th>Age</th>\n",
              "      <td>0</td>\n",
              "    </tr>\n",
              "    <tr>\n",
              "      <th>Gender</th>\n",
              "      <td>0</td>\n",
              "    </tr>\n",
              "    <tr>\n",
              "      <th>Annual Income</th>\n",
              "      <td>0</td>\n",
              "    </tr>\n",
              "    <tr>\n",
              "      <th>Marital Status</th>\n",
              "      <td>0</td>\n",
              "    </tr>\n",
              "    <tr>\n",
              "      <th>Number of Dependents</th>\n",
              "      <td>0</td>\n",
              "    </tr>\n",
              "    <tr>\n",
              "      <th>Occupation</th>\n",
              "      <td>0</td>\n",
              "    </tr>\n",
              "    <tr>\n",
              "      <th>Health Score</th>\n",
              "      <td>0</td>\n",
              "    </tr>\n",
              "    <tr>\n",
              "      <th>Policy Type</th>\n",
              "      <td>0</td>\n",
              "    </tr>\n",
              "    <tr>\n",
              "      <th>Previous Claims</th>\n",
              "      <td>0</td>\n",
              "    </tr>\n",
              "    <tr>\n",
              "      <th>Vehicle Age</th>\n",
              "      <td>0</td>\n",
              "    </tr>\n",
              "    <tr>\n",
              "      <th>Credit Score</th>\n",
              "      <td>0</td>\n",
              "    </tr>\n",
              "    <tr>\n",
              "      <th>Smoking Status</th>\n",
              "      <td>0</td>\n",
              "    </tr>\n",
              "    <tr>\n",
              "      <th>Property Type</th>\n",
              "      <td>0</td>\n",
              "    </tr>\n",
              "    <tr>\n",
              "      <th>Premium Amount</th>\n",
              "      <td>0</td>\n",
              "    </tr>\n",
              "  </tbody>\n",
              "</table>\n",
              "</div><br><label><b>dtype:</b> int64</label>"
            ]
          },
          "metadata": {},
          "execution_count": 223
        }
      ]
    },
    {
      "cell_type": "code",
      "source": [
        "# put your answer here\n",
        "\n",
        "# Fit the model on the training data\n",
        "pipeline.fit(X_train, y_train)\n",
        "\n",
        "# Predict on the test set\n",
        "y_pred = pipeline.predict(X_test)"
      ],
      "metadata": {
        "id": "8L0zJYBfWiVX"
      },
      "execution_count": 224,
      "outputs": []
    },
    {
      "cell_type": "code",
      "source": [
        "val_rmse = root_mean_squared_log_error(y_test, y_pred)\n",
        "val_rmsle = val_rmse**0.5\n",
        "\n",
        "print(f\"Validation RMSE: {val_rmsle:.4f}\")"
      ],
      "metadata": {
        "id": "K7MpmEaDFl57",
        "colab": {
          "base_uri": "https://localhost:8080/"
        },
        "outputId": "6ab36d72-d85c-495f-bc66-4d2149c65015"
      },
      "execution_count": 225,
      "outputs": [
        {
          "output_type": "stream",
          "name": "stdout",
          "text": [
            "Validation RMSE: 1.0765\n"
          ]
        }
      ]
    },
    {
      "cell_type": "markdown",
      "source": [
        "## Generate Submission File\n",
        "\n",
        "Choose the model that has the best performance to generate a submission file."
      ],
      "metadata": {
        "id": "a6UAAMyepmHi"
      }
    },
    {
      "cell_type": "code",
      "source": [
        "mean_imputer = SimpleImputer(strategy='mean')\n",
        "median_imputer = SimpleImputer(strategy='median')\n",
        "mode_imputer = SimpleImputer(strategy='most_frequent')\n",
        "\n",
        "dt['Age'] = mean_imputer.fit_transform(dt[['Age']])\n",
        "dt['Annual Income'].fillna(dt['Annual Income'].median(), inplace=True)\n",
        "dt['Number of Dependents'] = median_imputer.fit_transform(dt[['Number of Dependents']])\n",
        "dt['Health Score'] = median_imputer.fit_transform(dt[['Health Score']])\n",
        "dt['Previous Claims'] = mode_imputer.fit_transform(dt[['Previous Claims']])\n",
        "dt['Vehicle Age'] = median_imputer.fit_transform(dt[['Vehicle Age']])\n",
        "dt['Credit Score'] = median_imputer.fit_transform(dt[['Credit Score']])\n",
        "\n",
        "# Encoding categorical data\n",
        "label_encoder = LabelEncoder()\n",
        "dt['Occupation'] = label_encoder.fit_transform(dt['Occupation'])\n",
        "dt['Marital Status'] = label_encoder.fit_transform(dt['Marital Status'])\n",
        "dt['Property Type'] = label_encoder.fit_transform(dt['Property Type'])\n",
        "\n",
        "test_features = dt.drop(columns=[\"Premium Amount\", \"id\", \"Education Level\", \"Exercise Frequency\", \"Customer Feedback\", \"Policy Start Date\", \"Location\", \"Insurance Duration\"], errors='ignore')\n",
        "test_predictions = pipeline.predict(test_features)\n",
        "\n",
        "submission_df = pd.DataFrame({\n",
        "    \"id\": dt[\"id\"],\n",
        "    \"Premium Amount\": test_predictions\n",
        "})\n",
        "\n",
        "submission_df.to_csv(\"submission_file.csv\", index=False)\n",
        "print(\"Submission file created: submission_file.csv\")"
      ],
      "metadata": {
        "id": "HrelEEFJpjzI",
        "colab": {
          "base_uri": "https://localhost:8080/"
        },
        "outputId": "bdd0fd71-1cfc-493f-c7e3-bd9bb7926d3b"
      },
      "execution_count": 226,
      "outputs": [
        {
          "output_type": "stream",
          "name": "stderr",
          "text": [
            "<ipython-input-226-53aa0bd096c6>:6: FutureWarning: A value is trying to be set on a copy of a DataFrame or Series through chained assignment using an inplace method.\n",
            "The behavior will change in pandas 3.0. This inplace method will never work because the intermediate object on which we are setting values always behaves as a copy.\n",
            "\n",
            "For example, when doing 'df[col].method(value, inplace=True)', try using 'df.method({col: value}, inplace=True)' or df[col] = df[col].method(value) instead, to perform the operation inplace on the original object.\n",
            "\n",
            "\n",
            "  dt['Annual Income'].fillna(dt['Annual Income'].median(), inplace=True)\n"
          ]
        },
        {
          "output_type": "stream",
          "name": "stdout",
          "text": [
            "Submission file created: submission_file.csv\n"
          ]
        }
      ]
    }
  ],
  "metadata": {
    "colab": {
      "provenance": [],
      "gpuType": "T4",
      "include_colab_link": true
    },
    "kernelspec": {
      "display_name": "Python 3",
      "name": "python3"
    },
    "language_info": {
      "name": "python",
      "version": "3.12.4"
    },
    "accelerator": "GPU"
  },
  "nbformat": 4,
  "nbformat_minor": 0
}